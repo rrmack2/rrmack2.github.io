{
 "cells": [
  {
   "cell_type": "markdown",
   "metadata": {},
   "source": [
    "# Facebook Ego Network Analysis\n",
    "\n",
    "This notebook contains two visualizations using the Facebook ego network dataset."
   ]
  },
  {
   "cell_type": "code",
   "execution_count": null,
   "metadata": {},
   "outputs": [],
   "source": [
    "import networkx as nx\n",
    "import pandas as pd\n",
    "import altair as alt\n",
    "\n",
    "alt.data_transformers.disable_max_rows()\n",
    "\n",
    "# Load the dataset\n",
    "url = \"https://snap.stanford.edu/data/facebook_combined.txt\"\n",
    "G = nx.read_edgelist(url)\n",
    "\n",
    "# Create spring layout positions\n",
    "pos = nx.spring_layout(G, seed=42)\n",
    "\n",
    "# Create node dataframe\n",
    "nodes_df = pd.DataFrame({\n",
    "    'node': list(pos.keys()),\n",
    "    'x': [pos[n][0] for n in pos],\n",
    "    'y': [pos[n][1] for n in pos],\n",
    "    'degree': [G.degree(n) for n in pos]\n",
    "})\n",
    "\n",
    "# Create edge dataframe\n",
    "edges_df = pd.DataFrame([\n",
    "    {'source': u, 'target': v, 'x1': pos[u][0], 'y1': pos[u][1], 'x2': pos[v][0], 'y2': pos[v][1]}\n",
    "    for u, v in G.edges()\n",
    "])"
   ]
  },
  {
   "cell_type": "markdown",
   "metadata": {},
   "source": [
    "## Visualization 1: Network Graph of Facebook Ego Network"
   ]
  },
  {
   "cell_type": "code",
   "execution_count": null,
   "metadata": {},
   "outputs": [],
   "source": [
    "# Create the edges as lines\n",
    "edges = alt.Chart(edges_df).mark_line(opacity=0.05).encode(\n",
    "    x='x1', y='y1', x2='x2', y2='y2'\n",
    ")\n",
    "\n",
    "# Create the nodes as circles\n",
    "nodes = alt.Chart(nodes_df).mark_circle(size=30).encode(\n",
    "    x='x',\n",
    "    y='y',\n",
    "    color=alt.Color('degree:Q', scale=alt.Scale(scheme='viridis'), legend=alt.Legend(title=\"Degree\")),\n",
    "    tooltip=['node', 'degree']\n",
    ").properties(\n",
    "    width=600,\n",
    "    height=600,\n",
    "    title=\"Facebook Ego Network: Force-Directed Layout\"\n",
    ")\n",
    "\n",
    "network_chart = edges + nodes\n",
    "network_chart"
   ]
  },
  {
   "cell_type": "markdown",
   "metadata": {},
   "source": [
    "## Visualization 2: Interactive Degree Histogram"
   ]
  },
  {
   "cell_type": "code",
   "execution_count": null,
   "metadata": {},
   "outputs": [],
   "source": [
    "# Prepare degree distribution dataframe\n",
    "degree_df = pd.DataFrame(nodes_df['degree'].value_counts().sort_index()).reset_index()\n",
    "degree_df.columns = ['degree', 'count']\n",
    "\n",
    "# Create interactive histogram\n",
    "selection = alt.selection_interval(encodings=['x'])\n",
    "\n",
    "hist = alt.Chart(degree_df).mark_bar().encode(\n",
    "    x=alt.X('degree:Q', bin=alt.Bin(maxbins=50), title='Degree (Number of Friends)'),\n",
    "    y=alt.Y('count:Q', title='Number of Users'),\n",
    "    color=alt.condition(selection, alt.value('steelblue'), alt.value('lightgray')),\n",
    "    tooltip=['degree', 'count']\n",
    ").add_params(\n",
    "    selection\n",
    ").properties(\n",
    "    width=600,\n",
    "    height=400,\n",
    "    title=\"Degree Distribution of Facebook Users\"\n",
    ")\n",
    "\n",
    "hist"
   ]
  }
 ],
 "metadata": {
  "kernelspec": {
   "display_name": "Python 3",
   "language": "python",
   "name": "python3"
  },
  "language_info": {
   "name": "python",
   "version": ""
  }
 },
 "nbformat": 4,
 "nbformat_minor": 4
}